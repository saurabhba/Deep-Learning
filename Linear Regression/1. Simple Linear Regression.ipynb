{
 "cells": [
  {
   "cell_type": "markdown",
   "metadata": {},
   "source": [
    "# Simple Univariant Linear Regression\n",
    "\n",
    "The purpose of this notebook is to demostrated the univariant linear regression without using any framework and vectorization.\n",
    "\n",
    "Linear regression is one of the algorithem used in Supervised Machine Learning. In linear regression, algorithem tried to find the best fit line for given input data. Steps involed in linear regression is\n",
    "\n",
    "1. Hypothesis - for univariant linear regression algorithem, the hypothesis is\n",
    "    \\begin{equation*}\n",
    "    h(x) = w * x + b\n",
    "    \\end{equation*}\n",
    "    where \n",
    "        w is weight or slop of the line\n",
    "        b is bias or y-axis intersect of the line\n",
    "2. Initialize w and b with some random value\n",
    "3. Calculate cost for all input data\n",
    "    \\begin{equation*}\n",
    "    J(w, b) = \\frac{1}{m}\\sum_{i=1}^m(h(x_i) - y_i)^2\n",
    "    \\end{equation*}\n",
    "4. Calculate gradient descent using following equations\n",
    "    \\begin{equation*}\n",
    "    dw = \\frac{1}{m}\\sum_{i=1}^m(h(x_i)-y_i)*x_i\n",
    "    \\end{equation*}\n",
    "    \\begin{equation*}\n",
    "    db = \\frac{1}{m}\\sum_{i=1}^m(h(x_i)-y_i)\n",
    "    \\end{equation*}\n",
    "5. Update w and b as follows\n",
    "    \\begin{equation*}\n",
    "    w = w - \\alpha * dw\n",
    "    \\end{equation*}\n",
    "    \\begin{equation*}\n",
    "    b = b - \\alpha * db\n",
    "    \\end{equation*}\n",
    "    where $\\alpha$ is a learning rate\n",
    "6. Iterate steps 2 to 5 depending on number of iterations"
   ]
  },
  {
   "cell_type": "markdown",
   "metadata": {},
   "source": [
    "In this notebook I am using temperatue conversion as input data and trying to predict w and b. The equation for temperature conversion is\n",
    "\\begin{align}\n",
    "^\\circ F = \\frac{9}{5} * ^\\circ C + 32\n",
    "\\end{align}\n",
    "\n",
    "So linear regression algorithm should predict w $\\approx$ 1.8 and b $\\approx$ 32"
   ]
  },
  {
   "cell_type": "markdown",
   "metadata": {},
   "source": [
    "Lets start the fun with importing pandas (for reading data from csv file) and matplotlib (for plotting graph) libraries "
   ]
  },
  {
   "cell_type": "code",
   "execution_count": 1,
   "metadata": {},
   "outputs": [],
   "source": [
    "import pandas as pd\n",
    "import matplotlib.pyplot as plt\n",
    "from datetime import datetime"
   ]
  },
  {
   "cell_type": "markdown",
   "metadata": {},
   "source": [
    "Get $^\\circ C$ data as input feature and $^\\circ F$ data as lable output"
   ]
  },
  {
   "cell_type": "code",
   "execution_count": 2,
   "metadata": {},
   "outputs": [
    {
     "data": {
      "image/png": "[encoded data removed]",
      "text/plain": [
       "<Figure size 432x288 with 1 Axes>"
      ]
     },
     "metadata": {
      "needs_background": "light"
     },
     "output_type": "display_data"
    }
   ],
   "source": [
    "df = pd.read_csv(\"./data/train.csv\")\n",
    "train_X=df[\"Celcius\"].values\n",
    "train_Y=df[\"Ferenhnite\"].values\n",
    "plt.scatter(train_X, train_Y)\n",
    "plt.xlabel('$^\\circ C$')\n",
    "plt.ylabel('$^\\circ F$')\n",
    "plt.show()"
   ]
  },
  {
   "cell_type": "markdown",
   "metadata": {},
   "source": [
    "Initialize parameters w and b"
   ]
  },
  {
   "cell_type": "code",
   "execution_count": 3,
   "metadata": {},
   "outputs": [],
   "source": [
    "def initialize_parameters():\n",
    "    parameters = {\n",
    "                    \"b\" : 0,\n",
    "                    \"w\" : 0\n",
    "                    }\n",
    "    \n",
    "    return parameters"
   ]
  },
  {
   "cell_type": "markdown",
   "metadata": {},
   "source": [
    "Define a function to calculate cost"
   ]
  },
  {
   "cell_type": "code",
   "execution_count": 4,
   "metadata": {},
   "outputs": [],
   "source": [
    "def calculate_cost(parameters, X, Y):\n",
    "    b = parameters[\"b\"]\n",
    "    w = parameters[\"w\"]\n",
    "    cost = 0\n",
    "    m = X.shape[0]\n",
    "    for i in range(0, m):\n",
    "        cost += ((w * X[i] + b) - Y[i]) ** 2\n",
    "    return cost / (2 * m)"
   ]
  },
  {
   "cell_type": "markdown",
   "metadata": {},
   "source": [
    "define a function to calculate gradient descent"
   ]
  },
  {
   "cell_type": "code",
   "execution_count": 5,
   "metadata": {},
   "outputs": [],
   "source": [
    "def gradient_descent(parameters, X, Y):\n",
    "    dw = 0\n",
    "    db = 0\n",
    "    w = parameters[\"w\"]\n",
    "    b = parameters[\"b\"]\n",
    "    m = X.shape[0]\n",
    "    for i in range(0, m):\n",
    "        dw += (((w * X[i] + b) - Y[i]) * X[i])\n",
    "        db += ((w * X[i] + b) - Y[i])\n",
    "        \n",
    "    dw /= m\n",
    "    db /= m\n",
    "    grads = {\n",
    "        \"dw\" : dw,\n",
    "        \"db\" : db\n",
    "    }\n",
    "    \n",
    "    return grads"
   ]
  },
  {
   "cell_type": "markdown",
   "metadata": {},
   "source": [
    "Define a modal function which do the iterations and calculate cost and get gradient descent and update parameters w and b in each iteration"
   ]
  },
  {
   "cell_type": "code",
   "execution_count": 6,
   "metadata": {},
   "outputs": [],
   "source": [
    "def modal(X, Y, learning_rate=0.001, iterations=100):\n",
    "    start_time = datetime.now()\n",
    "    parameters = initialize_parameters()\n",
    "    costs = []\n",
    "    for index in range(iterations):\n",
    "        if index%1000 == 0:\n",
    "            cost = calculate_cost(parameters, X, Y)\n",
    "            costs.append(cost)\n",
    "            print(cost)\n",
    "        grads = gradient_descent(parameters, X, Y)\n",
    "        dw = grads[\"dw\"]\n",
    "        db = grads[\"db\"]\n",
    "        w = parameters[\"w\"]\n",
    "        b = parameters[\"b\"]\n",
    "        w = w - learning_rate * dw\n",
    "        b = b - learning_rate * db\n",
    "        parameters = {\n",
    "            \"w\" : w,\n",
    "            \"b\" : b\n",
    "        }\n",
    "    end_time = datetime.now()\n",
    "    print(\"Time taken to learn parameters : \" + str(end_time - start_time))\n",
    "    return costs, parameters"
   ]
  },
  {
   "cell_type": "code",
   "execution_count": 7,
   "metadata": {},
   "outputs": [
    {
     "name": "stdout",
     "output_type": "stream",
     "text": [
      "27602.0\n",
      "114.4567152658606\n",
      "106.48963756947799\n",
      "99.07713045353489\n",
      "92.18059149184599\n",
      "85.76410528736119\n",
      "79.79425643403695\n",
      "74.2399554980159\n",
      "69.07227711186964\n",
      "64.26430933874187\n",
      "59.79101352191838\n",
      "55.62909388995884\n",
      "51.756876238323485\n",
      "48.15419505570373\n",
      "44.802288507237684\n",
      "41.68370072771068\n",
      "38.78219091590942\n",
      "36.0826487567159\n",
      "33.57101573048159\n",
      "31.234211899880847\n",
      "29.06006779297012\n",
      "27.03726102771453\n",
      "25.155257347940612\n",
      "23.404255763647296\n",
      "21.775137509975146\n",
      "20.259418559030077\n",
      "18.849205437253758\n",
      "17.537154118247706\n",
      "16.316431776976806\n",
      "15.180681206178564\n",
      "14.123987709665776\n",
      "13.140848300114376\n",
      "12.226143040923631\n",
      "11.375108382905758\n",
      "10.58331235695071\n",
      "9.84663149347267\n",
      "9.161229348444063\n",
      "8.523536524183879\n",
      "7.930232080854408\n",
      "7.378226241863108\n",
      "6.8646443031025255\n",
      "6.386811662232065\n",
      "5.942239890038759\n",
      "5.528613771339534\n",
      "5.143779247937052\n",
      "4.785732200840014\n",
      "4.452608013328548\n",
      "4.142671860510226\n",
      "3.8543096747997754\n",
      "3.586019740271047\n",
      "3.336404872107645\n",
      "3.1041651404246156\n",
      "2.8880911005685133\n",
      "2.6870574946414285\n",
      "2.5000173914484267\n",
      "2.3259967343492267\n",
      "2.1640892686226434\n",
      "2.0134518219251825\n",
      "1.8732999132674832\n",
      "1.742903667639075\n",
      "1.6215840150076182\n",
      "1.5087091538973152\n",
      "1.4036912611295487\n",
      "1.3059834305913862\n",
      "1.2150768250895376\n",
      "1.1304980264574538\n",
      "1.051806570115402\n",
      "0.9785926512447759\n",
      "0.9104749906298747\n",
      "0.8470988490543135\n",
      "0.7881341799105451\n",
      "0.7332739104022344\n",
      "0.682232342388226\n",
      "0.6347436645403232\n",
      "0.5905605680664003\n",
      "0.5494529587900363\n",
      "0.5112067588792748\n",
      "0.4756227919844807\n",
      "0.44251574597928484\n",
      "0.4117132079027704\n",
      "0.38305476607724703\n",
      "0.3563911747255296\n",
      "0.33158357673752925\n",
      "0.30850278053808167\n",
      "0.28702858729057096\n",
      "0.26704916493239456\n",
      "0.2484604657824404\n",
      "0.2311656846875124\n",
      "0.2150747548861122\n",
      "0.20010387896391127\n",
      "0.18617509245843053\n",
      "0.17321585784033763\n",
      "0.16115868675645606\n",
      "0.14994078856802134\n",
      "0.13950374335311144\n",
      "0.12979319767084088\n",
      "0.12075858150258195\n",
      "0.11235284489636743\n",
      "0.10453221294288453\n",
      "0.09725595780701643\n",
      "0.090486186627702\n",
      "0.08418764418186137\n",
      "0.07832752928415775\n",
      "0.07287532396686901\n",
      "0.0678026345502283\n",
      "0.06308304377544767\n",
      "0.058691973230431155\n",
      "0.05460655535175785\n",
      "0.05080551433630603\n",
      "0.04726905534233497\n",
      "0.04397876140307368\n",
      "0.04091749751588719\n",
      "0.03806932140762077\n",
      "0.03541940051133141\n",
      "0.032953934722124566\n",
      "0.030660084529735752\n",
      "0.028525904153702895\n",
      "0.02654027933279889\n",
      "0.0246928694448126\n",
      "0.02297405365531448\n",
      "0.0213748808147559\n",
      "0.019887022843235406\n",
      "0.018502731359997537\n",
      "0.01721479733185572\n",
      "0.01601651353040343\n",
      "0.014901639602514444\n",
      "0.013864369572171428\n",
      "0.012899301604455328\n",
      "0.012001409874175636\n",
      "0.011166018392677519\n",
      "0.010388776656472238\n",
      "0.009665636990963948\n",
      "0.008992833471190394\n",
      "0.008366862309869577\n",
      "0.007784463610564796\n",
      "0.007242604390986033\n",
      "0.006738462787997093\n",
      "0.006269413362094584\n",
      "0.005833013424786319\n",
      "0.0054269903176983065\n",
      "0.005049229577160946\n",
      "0.004697763922617152\n",
      "0.004370763011541203\n",
      "0.004066523907487376\n",
      "0.003783462211629294\n",
      "0.0035201038116328873\n",
      "0.0032750772048352715\n",
      "0.003047106355838568\n",
      "0.0028350040512271826\n",
      "0.002637665716878976\n",
      "0.0024540636656195302\n",
      "0.0022832417452930535\n",
      "0.0021243103593802416\n",
      "0.001976441834189611\n",
      "0.001838866108563208\n",
      "0.001710866723591171\n",
      "0.0015917770914688771\n",
      "0.0014809770240928664\n",
      "0.0013778895032766929\n",
      "0.0012819776757875985\n",
      "0.0011927420575502986\n",
      "0.0011097179324729325\n",
      "0.0010324729323123913\n",
      "0.000960604785021558\n",
      "0.0008937392198174606\n",
      "0.0008315280180718549\n",
      "0.0007736471998848704\n",
      "0.0007197953368760593\n",
      "0.000669691982423671\n",
      "0.0006230762111746491\n",
      "0.0005797052602112253\n",
      "0.0005393532648010258\n",
      "0.0005018100821542339\n",
      "0.00046688019705286396\n",
      "0.00043438170366010237\n",
      "0.00040414535820071194\n",
      "0.0003760136975820269\n",
      "0.00034984021936787215\n",
      "0.0003254886188308193\n",
      "0.00030283207911200775\n",
      "0.00028175261079400714\n",
      "0.0002621404374394411\n",
      "0.0002438934239063116\n",
      "0.0002269165444511282\n",
      "0.00021112138786268448\n",
      "0.00019642569703693698\n",
      "0.00018275294060473\n",
      "0.0001700319143751864\n",
      "0.0001581963705228415\n",
      "0.00014718467258699125\n",
      "0.00013693947448291865\n",
      "0.00012740742186083767\n",
      "0.00011853887424703584\n",
      "0.00011028764653225053\n",
      "0.00010261076844975964\n",
      "9.546826079663094e-05\n",
      "8.882292723527588e-05\n",
      "8.264016058102217e-05\n",
      "7.688776257929024e-05\n",
      "7.153577622368648e-05\n",
      "Time taken to learn parameters : 0:00:13.064209\n"
     ]
    }
   ],
   "source": [
    "costs, parameters = modal(train_X, train_Y, learning_rate=0.00015, iterations=200000)"
   ]
  },
  {
   "cell_type": "code",
   "execution_count": 8,
   "metadata": {},
   "outputs": [
    {
     "data": {
      "text/plain": [
       "[<matplotlib.lines.Line2D at 0x1222a8240>]"
      ]
     },
     "execution_count": 8,
     "metadata": {},
     "output_type": "execute_result"
    },
    {
     "data": {
      "image/png": "[encoded data removed]",
      "text/plain": [
       "<Figure size 432x288 with 1 Axes>"
      ]
     },
     "metadata": {
      "needs_background": "light"
     },
     "output_type": "display_data"
    }
   ],
   "source": [
    "plt.plot(costs)"
   ]
  },
  {
   "cell_type": "code",
   "execution_count": 11,
   "metadata": {},
   "outputs": [
    {
     "name": "stdout",
     "output_type": "stream",
     "text": [
      "w = 1.800178681058611\n",
      "b = 31.976474090330928\n"
     ]
    }
   ],
   "source": [
    "w = parameters[\"w\"]\n",
    "b = parameters[\"b\"]\n",
    "\n",
    "print(\"w = \" + str(w))\n",
    "print(\"b = \" + str(b))"
   ]
  },
  {
   "cell_type": "markdown",
   "metadata": {},
   "source": [
    "As the result shows values of w and b are approx to expected values. Hurray...."
   ]
  },
  {
   "cell_type": "code",
   "execution_count": 15,
   "metadata": {},
   "outputs": [
    {
     "data": {
      "image/png": "[encoded data removed]",
      "text/plain": [
       "<Figure size 432x288 with 1 Axes>"
      ]
     },
     "metadata": {
      "needs_background": "light"
     },
     "output_type": "display_data"
    }
   ],
   "source": [
    "x1, y1 = [5, 195], [w * 5 + b, w * 195 + b]\n",
    "plt.plot(x1, y1, train_X, train_Y, marker = 'o')\n",
    "plt.show()"
   ]
  },
  {
   "cell_type": "markdown",
   "metadata": {},
   "source": [
    "# Future Work\n",
    "In next notbook we'll try to use matrix to get rid of for loop in cost and gradient function to make our algorithem works fast "
   ]
  }
 ],
 "metadata": {
  "kernelspec": {
   "display_name": "Python 3",
   "language": "python",
   "name": "python3"
  },
  "language_info": {
   "codemirror_mode": {
    "name": "ipython",
    "version": 3
   },
   "file_extension": ".py",
   "mimetype": "text/x-python",
   "name": "python",
   "nbconvert_exporter": "python",
   "pygments_lexer": "ipython3",
   "version": "3.7.3"
  }
 },
 "nbformat": 4,
 "nbformat_minor": 2
}
